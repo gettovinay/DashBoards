{
 "cells": [
  {
   "cell_type": "code",
   "execution_count": 1,
   "metadata": {},
   "outputs": [],
   "source": [
    "import plotly.graph_objects as go # or plotly.express as px"
   ]
  },
  {
   "cell_type": "code",
   "execution_count": 2,
   "metadata": {},
   "outputs": [],
   "source": [
    "import dash\n",
    "import dash_core_components as dcc\n",
    "import dash_html_components as html"
   ]
  },
  {
   "cell_type": "code",
   "execution_count": 3,
   "metadata": {},
   "outputs": [],
   "source": [
    "#Data from POMAST by Status \n",
    "labels = ['Open','In-Progress','Invoiced','Completed','Cancelled']\n",
    "values = [165162, 129677, 120372, 188594,99]\n",
    "\n",
    "fig = go.Figure(data=[go.Pie(labels=labels, values=values, textinfo='label+percent',\n",
    "                             insidetextorientation='radial'\n",
    "                            )])\n"
   ]
  },
  {
   "cell_type": "code",
   "execution_count": 4,
   "metadata": {},
   "outputs": [],
   "source": [
    "# or any Plotly Express function e.g. px.bar(...)\n",
    "# fig.add_trace( ... )\n",
    "# fig.update_layout( ... )\n",
    "\n",
    "app = dash.Dash()\n",
    "app.layout = html.Div([\n",
    "    html.H1('Purchase Order Values'),\n",
    "    dcc.Graph(figure=fig)\n",
    "])\n",
    "\n"
   ]
  },
  {
   "cell_type": "code",
   "execution_count": null,
   "metadata": {},
   "outputs": [
    {
     "name": "stdout",
     "output_type": "stream",
     "text": [
      "Dash is running on http://127.0.0.1:4075/\n",
      "\n",
      " Warning: This is a development server. Do not use app.run_server\n",
      " in production, use a production WSGI server like gunicorn instead.\n",
      "\n",
      " * Serving Flask app \"__main__\" (lazy loading)\n",
      " * Environment: production\n",
      "   WARNING: This is a development server. Do not use it in a production deployment.\n",
      "   Use a production WSGI server instead.\n",
      " * Debug mode: off\n"
     ]
    },
    {
     "name": "stderr",
     "output_type": "stream",
     "text": [
      " * Running on http://127.0.0.1:4075/ (Press CTRL+C to quit)\n",
      "127.0.0.1 - - [24/Jul/2020 08:35:23] \"\u001b[37mGET / HTTP/1.1\u001b[0m\" 200 -\n",
      "127.0.0.1 - - [24/Jul/2020 08:35:24] \"\u001b[37mGET /_dash-component-suites/dash_renderer/react@16.v1_5_0m1593005278.13.0.min.js HTTP/1.1\u001b[0m\" 200 -\n",
      "127.0.0.1 - - [24/Jul/2020 08:35:24] \"\u001b[37mGET /_dash-component-suites/dash_renderer/polyfill@7.v1_5_0m1593005278.8.7.min.js HTTP/1.1\u001b[0m\" 200 -\n",
      "127.0.0.1 - - [24/Jul/2020 08:35:24] \"\u001b[37mGET /assets/style.css?m=1594914552.962196 HTTP/1.1\u001b[0m\" 200 -\n",
      "127.0.0.1 - - [24/Jul/2020 08:35:24] \"\u001b[37mGET /_dash-component-suites/dash_renderer/prop-types@15.v1_5_0m1593005278.7.2.min.js HTTP/1.1\u001b[0m\" 200 -\n",
      "127.0.0.1 - - [24/Jul/2020 08:35:24] \"\u001b[37mGET /_dash-component-suites/dash_renderer/react-dom@16.v1_5_0m1593005278.13.0.min.js HTTP/1.1\u001b[0m\" 200 -\n",
      "127.0.0.1 - - [24/Jul/2020 08:35:24] \"\u001b[37mGET /_dash-component-suites/dash_html_components/dash_html_components.v1_0_3m1593005279.min.js HTTP/1.1\u001b[0m\" 200 -\n",
      "127.0.0.1 - - [24/Jul/2020 08:35:24] \"\u001b[37mGET /_dash-component-suites/dash_core_components/dash_core_components.v1_10_1m1593005279.min.js HTTP/1.1\u001b[0m\" 200 -\n",
      "127.0.0.1 - - [24/Jul/2020 08:35:24] \"\u001b[37mGET /_dash-component-suites/dash_core_components/dash_core_components-shared.v1_10_1m1593005279.js HTTP/1.1\u001b[0m\" 200 -\n",
      "127.0.0.1 - - [24/Jul/2020 08:35:24] \"\u001b[37mGET /_dash-component-suites/dash_renderer/dash_renderer.v1_5_0m1593005278.min.js HTTP/1.1\u001b[0m\" 200 -\n",
      "127.0.0.1 - - [24/Jul/2020 08:35:24] \"\u001b[37mGET /_favicon.ico?v=1.13.3 HTTP/1.1\u001b[0m\" 200 -\n",
      "127.0.0.1 - - [24/Jul/2020 08:35:24] \"\u001b[37mGET /_dash-layout HTTP/1.1\u001b[0m\" 200 -\n",
      "127.0.0.1 - - [24/Jul/2020 08:35:24] \"\u001b[37mGET /_dash-dependencies HTTP/1.1\u001b[0m\" 200 -\n",
      "127.0.0.1 - - [24/Jul/2020 08:35:24] \"\u001b[37mGET /_dash-component-suites/dash_core_components/async-graph.v1_10_1m1592438751.js HTTP/1.1\u001b[0m\" 200 -\n",
      "127.0.0.1 - - [24/Jul/2020 08:35:24] \"\u001b[37mGET /_dash-component-suites/dash_core_components/async-plotlyjs.v1_10_1m1592438751.js HTTP/1.1\u001b[0m\" 200 -\n",
      "127.0.0.1 - - [24/Jul/2020 08:36:37] \"\u001b[37mGET / HTTP/1.1\u001b[0m\" 200 -\n",
      "127.0.0.1 - - [24/Jul/2020 08:36:38] \"\u001b[36mGET /assets/style.css?m=1594914552.962196 HTTP/1.1\u001b[0m\" 304 -\n",
      "127.0.0.1 - - [24/Jul/2020 08:36:38] \"\u001b[37mGET /_dash-layout HTTP/1.1\u001b[0m\" 200 -\n",
      "127.0.0.1 - - [24/Jul/2020 08:36:38] \"\u001b[37mGET /_dash-dependencies HTTP/1.1\u001b[0m\" 200 -\n",
      "127.0.0.1 - - [24/Jul/2020 08:42:12] \"\u001b[37mGET / HTTP/1.1\u001b[0m\" 200 -\n",
      "127.0.0.1 - - [24/Jul/2020 08:42:12] \"\u001b[37mGET /_dash-layout HTTP/1.1\u001b[0m\" 200 -\n",
      "127.0.0.1 - - [24/Jul/2020 08:42:12] \"\u001b[37mGET /_dash-dependencies HTTP/1.1\u001b[0m\" 200 -\n"
     ]
    }
   ],
   "source": [
    "if __name__ == '__main__':\n",
    "    app.run_server(port=4075) (debug=True)"
   ]
  },
  {
   "cell_type": "code",
   "execution_count": null,
   "metadata": {},
   "outputs": [],
   "source": []
  }
 ],
 "metadata": {
  "kernelspec": {
   "display_name": "Python 3",
   "language": "python",
   "name": "python3"
  },
  "language_info": {
   "codemirror_mode": {
    "name": "ipython",
    "version": 3
   },
   "file_extension": ".py",
   "mimetype": "text/x-python",
   "name": "python",
   "nbconvert_exporter": "python",
   "pygments_lexer": "ipython3",
   "version": "3.7.6"
  }
 },
 "nbformat": 4,
 "nbformat_minor": 4
}
