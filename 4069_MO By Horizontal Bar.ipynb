{
 "cells": [
  {
   "cell_type": "code",
   "execution_count": 1,
   "metadata": {},
   "outputs": [],
   "source": [
    "import dash\n",
    "import dash_core_components as dcc\n",
    "import dash_html_components as html\n",
    "import plotly.express as px\n",
    "import pandas as pd"
   ]
  },
  {
   "cell_type": "code",
   "execution_count": 2,
   "metadata": {},
   "outputs": [],
   "source": [
    "external_stylesheets = ['https://codepen.io/chriddyp/pen/bWLwgP.css']\n",
    "\n",
    "app = dash.Dash(__name__, external_stylesheets=external_stylesheets)\n",
    "\n",
    "colors = {\n",
    "    'background': '#111111',\n",
    "    'text': '#7FDBFF'\n",
    "}\n",
    "\n",
    "# assumes you have a \"wide-form\" data frame with no index\n",
    "# see https://plotly.com/python/wide-form/ for more options\n",
    "df = pd.DataFrame({\"MO\": ['MGJZ430','MGJZ431' , 'MGJZ432','MGJZ433','MGJZ434'], \"Released\": [1, 1, 1,1,1], \"Started\": [1, 1, 1,1,0]\n",
    "                  ,\"Mat Complete\":[1,1,1,1,0],\"Lab Complete\":[1,1,1,0,0],\"Complete\":[1,0,0,0,0]})\n",
    "\n",
    "#fig = px.bar(df, x=\"x\", y=[\"SF\", \"Montreal\"], barmode=\"group\")\n",
    "#fig = px.bar(df, x=\"x\", y=[\"Released\", \"Started\"], barmode=\"relative\" ,orientation='h')\n",
    "fig = px.bar(df, x=[\"Released\", \"Started\",\"Mat Complete\",\"Lab Complete\",\"Complete\"], \n",
    "             y=\"MO\", barmode=\"relative\" ,orientation='h')\n",
    "\n",
    "fig.update_layout(plot_bgcolor=colors['background'], paper_bgcolor=colors['background'], font_color=colors['text'])\n",
    "\n",
    "app.layout = html.Div(style={'backgroundColor': colors['background']}, children=[\n",
    "    html.H1(\n",
    "        children='Manifacturing Order by Status',\n",
    "        style={\n",
    "            'textAlign': 'center',\n",
    "            'color': colors['text']\n",
    "        }\n",
    "    ),\n",
    "\n",
    "    html.Div(children='Top 5 Manifacturing Orders by Status.', style={\n",
    "        'textAlign': 'center',\n",
    "        'color': colors['text']\n",
    "    }),\n",
    "\n",
    "    dcc.Graph(\n",
    "        id='example-graph-2',\n",
    "        figure=fig\n",
    "    )\n",
    "])\n"
   ]
  },
  {
   "cell_type": "code",
   "execution_count": null,
   "metadata": {},
   "outputs": [
    {
     "name": "stdout",
     "output_type": "stream",
     "text": [
      "Dash is running on http://127.0.0.1:4069/\n",
      "\n",
      " Warning: This is a development server. Do not use app.run_server\n",
      " in production, use a production WSGI server like gunicorn instead.\n",
      "\n",
      " * Serving Flask app \"__main__\" (lazy loading)\n",
      " * Environment: production\n",
      "   WARNING: This is a development server. Do not use it in a production deployment.\n",
      "   Use a production WSGI server instead.\n",
      " * Debug mode: off\n"
     ]
    },
    {
     "name": "stderr",
     "output_type": "stream",
     "text": [
      " * Running on http://127.0.0.1:4069/ (Press CTRL+C to quit)\n",
      "127.0.0.1 - - [28/Jul/2020 15:33:43] \"\u001b[37mGET / HTTP/1.1\u001b[0m\" 200 -\n",
      "127.0.0.1 - - [28/Jul/2020 15:33:43] \"\u001b[37mGET /assets/style.css?m=1594914552.962196 HTTP/1.1\u001b[0m\" 200 -\n",
      "127.0.0.1 - - [28/Jul/2020 15:33:43] \"\u001b[37mGET /_dash-component-suites/dash_renderer/polyfill@7.v1_5_0m1593005278.8.7.min.js HTTP/1.1\u001b[0m\" 200 -\n",
      "127.0.0.1 - - [28/Jul/2020 15:33:43] \"\u001b[37mGET /_dash-component-suites/dash_renderer/react@16.v1_5_0m1593005278.13.0.min.js HTTP/1.1\u001b[0m\" 200 -\n",
      "127.0.0.1 - - [28/Jul/2020 15:33:43] \"\u001b[37mGET /_dash-component-suites/dash_core_components/dash_core_components.v1_10_1m1593005279.min.js HTTP/1.1\u001b[0m\" 200 -\n",
      "127.0.0.1 - - [28/Jul/2020 15:33:43] \"\u001b[37mGET /_dash-component-suites/dash_renderer/prop-types@15.v1_5_0m1593005278.7.2.min.js HTTP/1.1\u001b[0m\" 200 -\n",
      "127.0.0.1 - - [28/Jul/2020 15:33:43] \"\u001b[37mGET /_dash-component-suites/dash_core_components/dash_core_components-shared.v1_10_1m1593005279.js HTTP/1.1\u001b[0m\" 200 -\n",
      "127.0.0.1 - - [28/Jul/2020 15:33:43] \"\u001b[37mGET /_dash-component-suites/dash_renderer/react-dom@16.v1_5_0m1593005278.13.0.min.js HTTP/1.1\u001b[0m\" 200 -\n",
      "127.0.0.1 - - [28/Jul/2020 15:33:43] \"\u001b[37mGET /_dash-component-suites/dash_html_components/dash_html_components.v1_0_3m1593005279.min.js HTTP/1.1\u001b[0m\" 200 -\n",
      "127.0.0.1 - - [28/Jul/2020 15:33:43] \"\u001b[37mGET /_dash-component-suites/dash_renderer/dash_renderer.v1_5_0m1593005278.min.js HTTP/1.1\u001b[0m\" 200 -\n",
      "127.0.0.1 - - [28/Jul/2020 15:33:45] \"\u001b[37mGET /_favicon.ico?v=1.13.3 HTTP/1.1\u001b[0m\" 200 -\n",
      "127.0.0.1 - - [28/Jul/2020 15:33:45] \"\u001b[37mGET /_dash-dependencies HTTP/1.1\u001b[0m\" 200 -\n",
      "127.0.0.1 - - [28/Jul/2020 15:33:45] \"\u001b[37mGET /_dash-layout HTTP/1.1\u001b[0m\" 200 -\n",
      "127.0.0.1 - - [28/Jul/2020 15:33:45] \"\u001b[37mGET /_dash-component-suites/dash_core_components/async-graph.v1_10_1m1592438751.js HTTP/1.1\u001b[0m\" 200 -\n",
      "127.0.0.1 - - [28/Jul/2020 15:33:45] \"\u001b[37mGET /_dash-component-suites/dash_core_components/async-plotlyjs.v1_10_1m1592438751.js HTTP/1.1\u001b[0m\" 200 -\n"
     ]
    }
   ],
   "source": [
    "if __name__ == '__main__':\n",
    "    app.run_server(port=4069) (debug=True)"
   ]
  },
  {
   "cell_type": "code",
   "execution_count": null,
   "metadata": {},
   "outputs": [],
   "source": []
  }
 ],
 "metadata": {
  "kernelspec": {
   "display_name": "Python 3",
   "language": "python",
   "name": "python3"
  },
  "language_info": {
   "codemirror_mode": {
    "name": "ipython",
    "version": 3
   },
   "file_extension": ".py",
   "mimetype": "text/x-python",
   "name": "python",
   "nbconvert_exporter": "python",
   "pygments_lexer": "ipython3",
   "version": "3.7.6"
  }
 },
 "nbformat": 4,
 "nbformat_minor": 4
}
